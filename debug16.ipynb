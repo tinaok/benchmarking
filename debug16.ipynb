{
 "cells": [
  {
   "cell_type": "code",
   "execution_count": 4,
   "metadata": {},
   "outputs": [],
   "source": [
    "from benchmarks.utils import PBSSetup\n",
    "#import warnings\n",
    "#warnings.simplefilter(\"ignore\") # Silence warnings"
   ]
  },
  {
   "cell_type": "code",
   "execution_count": 5,
   "metadata": {},
   "outputs": [],
   "source": [
    "s = PBSSetup('haldebug16.yaml')\n",
    "#s = PBSSetup('setup.yaml')"
   ]
  },
  {
   "cell_type": "code",
   "execution_count": 6,
   "metadata": {},
   "outputs": [
    {
     "name": "stdout",
     "output_type": "stream",
     "text": [
      "read configuration yaml file here to run the benchmarks \n",
      " Creates a dask cluster using dask_jobqueue \n",
      "memory size for each node:  128gb\n",
      "number of cores for each node:  24\n",
      "number of workers for each node:  1\n",
      "job script created by dask_jobqueue: starts--------\n",
      "#!/bin/bash\n",
      "\n",
      "#!/usr/bin/env bash\n",
      "#PBS -N dask-worker\n",
      "#PBS -q batch\n",
      "#PBS -l select=1:ncpus=24:mem=120GB\n",
      "#PBS -l walltime=3600\n",
      "#PBS -j oe\n",
      "JOB_ID=${PBS_JOBID%.*}\n",
      "\n",
      "OMP_NUM_THREADS=1\n",
      "\n",
      "/home/mp/odakat/miniconda3/envs/pangeobench/bin/python -m distributed.cli.dask_worker tcp://10.135.39.57:40605 --nthreads 24 --memory-limit 128.00GB --name dask-worker--${JOB_ID}-- --death-timeout 60 --local-directory $TMPDIR --nthreads 1 --interface ib0\n",
      "\n",
      "job script created by dask_jobqueue: ends --------\n",
      "dask cluster dashboard_link : \n",
      "http://10.135.39.57:42621/status\n",
      "start cluster_wait\n"
     ]
    },
    {
     "name": "stderr",
     "output_type": "stream",
     "text": [
      "/home/mp/odakat/miniconda3/envs/pangeobench/lib/python3.6/site-packages/distributed/deploy/local.py:138: UserWarning: diagnostics_port has been deprecated. Please use `dashboard_address=` instead\n",
      "  \"diagnostics_port has been deprecated. \"\n",
      "/home/mp/odakat/miniconda3/envs/pangeobench/lib/python3.6/site-packages/distributed/bokeh/core.py:74: UserWarning: \n",
      "Port 8787 is already in use. \n",
      "Perhaps you already have a cluster running?\n",
      "Hosting the diagnostics dashboard on a random port instead.\n",
      "  warnings.warn(\"\\n\" + msg)\n"
     ]
    },
    {
     "name": "stdout",
     "output_type": "stream",
     "text": [
      "dask cluster client started  with 16 nodes\n",
      "client cluster \n",
      "16\n",
      "benchmark start with: worker_per_node=1, num_nodes=16, chunk_size=128MB, chunking_scheme=spatial, chunk per worker=10\n",
      "<xarray.Dataset>\n",
      "Dimensions:  (lat: 320, lon: 384, time: 20834)\n",
      "Coordinates:\n",
      "  * time     (time) datetime64[ns] 1980-01-01 1980-01-02 ... 2037-01-14\n",
      "  * lon      (lon) float64 -180.0 -179.1 -178.1 -177.2 ... 178.1 179.1 180.0\n",
      "  * lat      (lat) float64 -90.0 -89.44 -88.87 -88.31 ... 88.31 88.87 89.44 90.0\n",
      "Data variables:\n",
      "    sst      (time, lon, lat) float64 dask.array<shape=(20834, 384, 320), chunksize=(20834, 28, 28)>\n",
      "Attributes:\n",
      "    history:  created for compute benchmarking\n",
      "\n",
      " datasize: 20.5 GB\n",
      "operation is <function global_mean at 0x2ab736891158>\n",
      "<xarray.Dataset>\n",
      "Dimensions:  (lat: 320, lon: 384)\n",
      "Coordinates:\n",
      "  * lon      (lon) float64 -180.0 -179.1 -178.1 -177.2 ... 178.1 179.1 180.0\n",
      "  * lat      (lat) float64 -90.0 -89.44 -88.87 -88.31 ... 88.31 88.87 89.44 90.0\n",
      "Data variables:\n",
      "    sst      (lon, lat) float64 dask.array<shape=(384, 320), chunksize=(28, 28)>\n",
      "\n",
      " datasize: 0.0 GB\n",
      "operation is <function temporal_mean at 0x2ab7368911e0>\n",
      "<xarray.Dataset>\n",
      "Dimensions:  (time: 20834)\n",
      "Coordinates:\n",
      "  * time     (time) datetime64[ns] 1980-01-01 1980-01-02 ... 2037-01-14\n",
      "Data variables:\n",
      "    sst      (time) float64 dask.array<shape=(20834,), chunksize=(20834,)>\n",
      "\n",
      " datasize: 0.0 GB\n",
      "operation is <function climatology at 0x2ab736891268>\n",
      "<xarray.Dataset>\n",
      "Dimensions:  (lat: 320, lon: 384, season: 4)\n",
      "Coordinates:\n",
      "  * lon      (lon) float64 -180.0 -179.1 -178.1 -177.2 ... 178.1 179.1 180.0\n",
      "  * lat      (lat) float64 -90.0 -89.44 -88.87 -88.31 ... 88.31 88.87 89.44 90.0\n",
      "  * season   (season) object 'DJF' 'JJA' 'MAM' 'SON'\n",
      "Data variables:\n",
      "    sst      (season, lon, lat) float64 dask.array<shape=(4, 384, 320), chunksize=(1, 28, 28)>\n",
      "\n",
      " datasize: 0.0 GB\n"
     ]
    },
    {
     "name": "stderr",
     "output_type": "stream",
     "text": [
      "/home/mp/odakat/miniconda3/envs/pangeobench/lib/python3.6/site-packages/xarray/core/indexing.py:1195: PerformanceWarning: Slicing with an out-of-order index is generating 58 times more chunks\n",
      "  return self.array[key]\n"
     ]
    },
    {
     "name": "stdout",
     "output_type": "stream",
     "text": [
      "operation is <function anomaly at 0x2ab7368912f0>\n"
     ]
    },
    {
     "name": "stderr",
     "output_type": "stream",
     "text": [
      "/home/mp/odakat/miniconda3/envs/pangeobench/lib/python3.6/site-packages/xarray/core/indexing.py:1195: PerformanceWarning: Slicing with an out-of-order index is generating 58 times more chunks\n",
      "  return self.array[key]\n"
     ]
    },
    {
     "name": "stdout",
     "output_type": "stream",
     "text": [
      "<xarray.Dataset>\n",
      "Dimensions:  (lat: 320, lon: 384, time: 20834)\n",
      "Coordinates:\n",
      "  * lon      (lon) float64 -180.0 -179.1 -178.1 -177.2 ... 178.1 179.1 180.0\n",
      "  * lat      (lat) float64 -90.0 -89.44 -88.87 -88.31 ... 88.31 88.87 89.44 90.0\n",
      "  * time     (time) datetime64[ns] 1980-01-01 1980-01-02 ... 2037-01-14\n",
      "    season   (time) <U3 'DJF' 'DJF' 'DJF' 'DJF' ... 'DJF' 'DJF' 'DJF' 'DJF'\n",
      "Data variables:\n",
      "    sst      (time, lon, lat) float64 dask.array<shape=(20834, 384, 320), chunksize=(60, 28, 28)>\n"
     ]
    },
    {
     "name": "stderr",
     "output_type": "stream",
     "text": [
      "/home/mp/odakat/miniconda3/envs/pangeobench/lib/python3.6/site-packages/xarray/core/indexing.py:1195: PerformanceWarning: Slicing with an out-of-order index is generating 58 times more chunks\n",
      "  return self.array[key]\n"
     ]
    },
    {
     "name": "stdout",
     "output_type": "stream",
     "text": [
      "\n",
      " datasize: 20.5 GB\n",
      "kills ds and every other dependent computation\n",
      "benchmark start with: worker_per_node=1, num_nodes=16, chunk_size=128MB, chunking_scheme=temporal, chunk per worker=10\n",
      "<xarray.Dataset>\n",
      "Dimensions:  (lat: 320, lon: 384, time: 20834)\n",
      "Coordinates:\n",
      "  * time     (time) datetime64[ns] 1980-01-01 1980-01-02 ... 2037-01-14\n",
      "  * lon      (lon) float64 -180.0 -179.1 -178.1 -177.2 ... 178.1 179.1 180.0\n",
      "  * lat      (lat) float64 -90.0 -89.44 -88.87 -88.31 ... 88.31 88.87 89.44 90.0\n",
      "Data variables:\n",
      "    sst      (time, lon, lat) float64 dask.array<shape=(20834, 384, 320), chunksize=(131, 384, 320)>\n",
      "Attributes:\n",
      "    history:  created for compute benchmarking\n",
      "\n",
      " datasize: 20.5 GB\n",
      "operation is <function global_mean at 0x2ab736891158>\n",
      "<xarray.Dataset>\n",
      "Dimensions:  (lat: 320, lon: 384)\n",
      "Coordinates:\n",
      "  * lon      (lon) float64 -180.0 -179.1 -178.1 -177.2 ... 178.1 179.1 180.0\n",
      "  * lat      (lat) float64 -90.0 -89.44 -88.87 -88.31 ... 88.31 88.87 89.44 90.0\n",
      "Data variables:\n",
      "    sst      (lon, lat) float64 dask.array<shape=(384, 320), chunksize=(384, 320)>\n",
      "\n",
      " datasize: 0.0 GB\n",
      "operation is <function temporal_mean at 0x2ab7368911e0>\n",
      "<xarray.Dataset>\n",
      "Dimensions:  (time: 20834)\n",
      "Coordinates:\n",
      "  * time     (time) datetime64[ns] 1980-01-01 1980-01-02 ... 2037-01-14\n",
      "Data variables:\n",
      "    sst      (time) float64 dask.array<shape=(20834,), chunksize=(131,)>\n",
      "\n",
      " datasize: 0.0 GB\n",
      "operation is <function climatology at 0x2ab736891268>\n",
      "<xarray.Dataset>\n",
      "Dimensions:  (lat: 320, lon: 384, season: 4)\n",
      "Coordinates:\n",
      "  * lon      (lon) float64 -180.0 -179.1 -178.1 -177.2 ... 178.1 179.1 180.0\n",
      "  * lat      (lat) float64 -90.0 -89.44 -88.87 -88.31 ... 88.31 88.87 89.44 90.0\n",
      "  * season   (season) object 'DJF' 'JJA' 'MAM' 'SON'\n",
      "Data variables:\n",
      "    sst      (season, lon, lat) float64 dask.array<shape=(4, 384, 320), chunksize=(1, 384, 320)>\n",
      "\n",
      " datasize: 0.0 GB\n",
      "operation is <function anomaly at 0x2ab7368912f0>\n",
      "<xarray.Dataset>\n",
      "Dimensions:  (lat: 320, lon: 384, time: 20834)\n",
      "Coordinates:\n",
      "  * lon      (lon) float64 -180.0 -179.1 -178.1 -177.2 ... 178.1 179.1 180.0\n",
      "  * lat      (lat) float64 -90.0 -89.44 -88.87 -88.31 ... 88.31 88.87 89.44 90.0\n",
      "  * time     (time) datetime64[ns] 1980-01-01 1980-01-02 ... 2037-01-14\n",
      "    season   (time) <U3 'DJF' 'DJF' 'DJF' 'DJF' ... 'DJF' 'DJF' 'DJF' 'DJF'\n",
      "Data variables:\n",
      "    sst      (time, lon, lat) float64 dask.array<shape=(20834, 384, 320), chunksize=(60, 384, 320)>\n",
      "\n",
      " datasize: 20.5 GB\n",
      "kills ds and every other dependent computation\n",
      "benchmark start with: worker_per_node=1, num_nodes=16, chunk_size=128MB, chunking_scheme=auto, chunk per worker=10\n",
      "<xarray.Dataset>\n",
      "Dimensions:  (lat: 320, lon: 384, time: 20834)\n",
      "Coordinates:\n",
      "  * time     (time) datetime64[ns] 1980-01-01 1980-01-02 ... 2037-01-14\n",
      "  * lon      (lon) float64 -180.0 -179.1 -178.1 -177.2 ... 178.1 179.1 180.0\n",
      "  * lat      (lat) float64 -90.0 -89.44 -88.87 -88.31 ... 88.31 88.87 89.44 90.0\n",
      "Data variables:\n",
      "    sst      (time, lon, lat) float64 dask.array<shape=(20834, 384, 320), chunksize=(251, 192, 160)>\n",
      "Attributes:\n",
      "    history:  created for compute benchmarking\n",
      "\n",
      " datasize: 20.5 GB\n",
      "operation is <function global_mean at 0x2ab736891158>\n",
      "<xarray.Dataset>\n",
      "Dimensions:  (lat: 320, lon: 384)\n",
      "Coordinates:\n",
      "  * lon      (lon) float64 -180.0 -179.1 -178.1 -177.2 ... 178.1 179.1 180.0\n",
      "  * lat      (lat) float64 -90.0 -89.44 -88.87 -88.31 ... 88.31 88.87 89.44 90.0\n",
      "Data variables:\n",
      "    sst      (lon, lat) float64 dask.array<shape=(384, 320), chunksize=(192, 160)>\n",
      "\n",
      " datasize: 0.0 GB\n",
      "operation is <function temporal_mean at 0x2ab7368911e0>\n",
      "<xarray.Dataset>\n",
      "Dimensions:  (time: 20834)\n",
      "Coordinates:\n",
      "  * time     (time) datetime64[ns] 1980-01-01 1980-01-02 ... 2037-01-14\n",
      "Data variables:\n",
      "    sst      (time) float64 dask.array<shape=(20834,), chunksize=(251,)>\n",
      "\n",
      " datasize: 0.0 GB\n",
      "operation is <function climatology at 0x2ab736891268>\n",
      "<xarray.Dataset>\n",
      "Dimensions:  (lat: 320, lon: 384, season: 4)\n",
      "Coordinates:\n",
      "  * lon      (lon) float64 -180.0 -179.1 -178.1 -177.2 ... 178.1 179.1 180.0\n",
      "  * lat      (lat) float64 -90.0 -89.44 -88.87 -88.31 ... 88.31 88.87 89.44 90.0\n",
      "  * season   (season) object 'DJF' 'JJA' 'MAM' 'SON'\n",
      "Data variables:\n",
      "    sst      (season, lon, lat) float64 dask.array<shape=(4, 384, 320), chunksize=(1, 192, 160)>\n",
      "\n",
      " datasize: 0.0 GB\n",
      "operation is <function anomaly at 0x2ab7368912f0>\n",
      "<xarray.Dataset>\n",
      "Dimensions:  (lat: 320, lon: 384, time: 20834)\n",
      "Coordinates:\n",
      "  * lon      (lon) float64 -180.0 -179.1 -178.1 -177.2 ... 178.1 179.1 180.0\n",
      "  * lat      (lat) float64 -90.0 -89.44 -88.87 -88.31 ... 88.31 88.87 89.44 90.0\n",
      "  * time     (time) datetime64[ns] 1980-01-01 1980-01-02 ... 2037-01-14\n",
      "    season   (time) <U3 'DJF' 'DJF' 'DJF' 'DJF' ... 'DJF' 'DJF' 'DJF' 'DJF'\n",
      "Data variables:\n",
      "    sst      (time, lon, lat) float64 dask.array<shape=(20834, 384, 320), chunksize=(60, 192, 160)>\n",
      "\n",
      " datasize: 20.5 GB\n",
      "kills ds and every other dependent computation\n",
      "create bench mark result file:  ./results-debug/compute_study_2019-09-12_1501.41_.csv\n",
      "client and cluster close before changing number of workers per nodes\n",
      "client cluster close finished\n",
      "client  close finished\n"
     ]
    }
   ],
   "source": [
    "for i in range(1):\n",
    "    s.run(verbose=True)"
   ]
  },
  {
   "cell_type": "code",
   "execution_count": 4,
   "metadata": {},
   "outputs": [],
   "source": [
    "import dask\n"
   ]
  },
  {
   "cell_type": "code",
   "execution_count": 5,
   "metadata": {},
   "outputs": [
    {
     "data": {
      "text/plain": [
       "{'name': 'dask-worker',\n",
       " 'cores': None,\n",
       " 'memory': None,\n",
       " 'processes': 1,\n",
       " 'interface': None,\n",
       " 'death-timeout': 60,\n",
       " 'local-directory': None,\n",
       " 'queue': None,\n",
       " 'project': None,\n",
       " 'walltime': '00:30:00',\n",
       " 'extra': [],\n",
       " 'env-extra': [],\n",
       " 'resource-spec': None,\n",
       " 'job-extra': [],\n",
       " 'log-directory': None}"
      ]
     },
     "execution_count": 5,
     "metadata": {},
     "output_type": "execute_result"
    }
   ],
   "source": [
    "dask.config.get(\"jobqueue.pbs\")"
   ]
  },
  {
   "cell_type": "code",
   "execution_count": null,
   "metadata": {},
   "outputs": [],
   "source": []
  }
 ],
 "metadata": {
  "kernelspec": {
   "display_name": "pangeobench",
   "language": "python",
   "name": "pangeobench"
  },
  "language_info": {
   "codemirror_mode": {
    "name": "ipython",
    "version": 3
   },
   "file_extension": ".py",
   "mimetype": "text/x-python",
   "name": "python",
   "nbconvert_exporter": "python",
   "pygments_lexer": "ipython3",
   "version": "3.6.8"
  }
 },
 "nbformat": 4,
 "nbformat_minor": 2
}
